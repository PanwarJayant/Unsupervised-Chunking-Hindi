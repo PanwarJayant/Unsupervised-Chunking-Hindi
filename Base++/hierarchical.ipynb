{
  "nbformat": 4,
  "nbformat_minor": 0,
  "metadata": {
    "colab": {
      "name": "hierarchical.ipynb",
      "provenance": []
    },
    "kernelspec": {
      "name": "python3",
      "display_name": "Python 3"
    },
    "language_info": {
      "name": "python"
    }
  },
  "cells": [
    {
      "cell_type": "code",
      "metadata": {
        "id": "gdTYdtTNL_fC"
      },
      "source": [
        "from google.colab import drive\n",
        "drive.mount('/content/gdrive')"
      ],
      "execution_count": null,
      "outputs": []
    },
    {
      "cell_type": "code",
      "metadata": {
        "colab": {
          "base_uri": "https://localhost:8080/"
        },
        "id": "6_bC_xg9NATS",
        "outputId": "d7e015af-8836-440e-f413-f0a21bbe51e7"
      },
      "source": [
        "import numpy as np\n",
        "import nltk\n",
        "nltk.download('punkt')\n",
        "from nltk.tokenize import sent_tokenize, word_tokenize\n",
        "\n",
        "#READING THE CORPUS\n",
        "with open('/content/gdrive/My Drive/sem4/nlp/hierarchical_corpus.txt', 'r') as f:\n",
        "  corpus = f.read()\n",
        "s = word_tokenize(corpus)\n",
        "pair = {}\n",
        "idx =0\n",
        "while idx < len(s) - 1:\n",
        "  pair[s[idx]] = []\n",
        "  pair[s[idx]].append(s[idx+1])\n",
        "  idx+=2\n",
        "\n",
        "lab = int(len(s)/2)\n",
        "id = 0\n",
        "\n",
        "#CONVERTING THE WORDS INTO X,Y COORDINATES USING CLOSEST NOUN AND VERB DISTANCES\n",
        "vd = 2000\n",
        "nd = 2000\n",
        "id = 1\n",
        "nid = 1\n",
        "finalnoun = 0\n",
        "finalverb = 0\n",
        "while id < len(s):\n",
        "  nid = 1\n",
        "  if (s[id]=='N_NNP' or s[id]=='N_NN'):\n",
        "    finalnoun = id\n",
        "  if (s[id]=='V_VM'):\n",
        "    finalverb = id \n",
        "  while nid < len(s):\n",
        "    if (s[nid]=='N_NNP' or s[nid]=='N_NN') and abs(nid-id) < nd and nid!=id:\n",
        "      nd = abs(nid-id)\n",
        "      finalnoun = nid\n",
        "    \n",
        "    if (s[nid]==\"V_VM\") and nid!=id and abs(nid-id) < vd:\n",
        "      vd = abs(nid-id)\n",
        "      finalverb = nid\n",
        "  \n",
        "    nid+=2\n",
        "  temp = []\n",
        "  temp.append(int(id/2)+1)\n",
        "  temp.append(finalnoun+id-1)\n",
        "  temp.append(finalverb+id-1)\n",
        "  pair[s[id-1]].append(temp)\n",
        "  temp = []\n",
        "  id+=2\n",
        "print(corpus)\n",
        "print()\n",
        "print(pair)\n",
        "print()\n",
        "X = np.zeros((28,2), dtype=int)\n",
        "\n",
        "for v in pair.values():\n",
        "  vid = 1\n",
        "  while vid < len(v):\n",
        "    # print(v[vid])\n",
        "    X[v[vid][0]-1][0] = v[vid][1]\n",
        "    X[v[vid][0]-1][1] = v[vid][2]\n",
        "    vid += 1\n",
        "print(X)"
      ],
      "execution_count": 113,
      "outputs": [
        {
          "output_type": "stream",
          "text": [
            "[nltk_data] Downloading package punkt to /root/nltk_data...\n",
            "[nltk_data]   Package punkt is already up-to-date!\n",
            "शौकत\tN_NNP\n",
            "महल\tN_NNP\n",
            "के\tPSP\n",
            "सामने\tN_NST\n",
            "बड़ी\tJJ\n",
            "झील\tN_NN\n",
            "के\tPSP\n",
            "किनारे\tN_NN\n",
            "स्थित\tJJ\n",
            "वास्तुकला\tN_NN\n",
            "का\tPSP\n",
            "यह\tDM_DMD\n",
            "खूबसूरत\tJJ\n",
            "नमूना\tN_NN\n",
            "कुदसिया\tN_NNP\n",
            "बेगम\tN_NNP\n",
            "के\tPSP\n",
            "काल\tN_NN\n",
            "का\tPSP\n",
            "है\tV_VM\n",
            "जिन्हें\tPR_PRL\n",
            "गोहर\tN_NNP\n",
            "बेगम\tN_NNP\n",
            "भी\tRP_RPD\n",
            "कहा\tV_VM\n",
            "जाता\tV_VAUX\n",
            "था\tV_VAUX\n",
            "।\tRD_PUNC\n",
            "\n",
            "{'शौकत': ['N_NNP', [1, 3, 39]], 'महल': ['N_NNP', [2, 5, 41]], 'के': ['PSP', [3, 7, 43], [7, 23, 51], [17, 63, 71]], 'सामने': ['N_NST', [4, 9, 45]], 'बड़ी': ['JJ', [5, 11, 47]], 'झील': ['N_NN', [6, 21, 49]], 'किनारे': ['N_NN', [8, 29, 53]], 'स्थित': ['JJ', [9, 31, 55]], 'वास्तुकला': ['N_NN', [10, 37, 57]], 'का': ['PSP', [11, 39, 59], [19, 71, 75]], 'यह': ['DM_DMD', [12, 41, 61]], 'खूबसूरत': ['JJ', [13, 43, 63]], 'नमूना': ['N_NN', [14, 53, 65]], 'कुदसिया': ['N_NNP', [15, 57, 67]], 'बेगम': ['N_NNP', [16, 61, 69], [23, 89, 83]], 'काल': ['N_NN', [18, 69, 73]], 'है': ['V_VM', [20, 73, 77]], 'जिन्हें': ['PR_PRL', [21, 75, 79]], 'गोहर': ['N_NNP', [22, 85, 81]], 'भी': ['RP_RPD', [24, 91, 85]], 'कहा': ['V_VM', [25, 93, 97]], 'जाता': ['V_VAUX', [26, 95, 99]], 'था': ['V_VAUX', [27, 97, 101]], '।': ['RD_PUNC', [28, 99, 103]]}\n",
            "\n",
            "[[  3  39]\n",
            " [  5  41]\n",
            " [  7  43]\n",
            " [  9  45]\n",
            " [ 11  47]\n",
            " [ 21  49]\n",
            " [ 23  51]\n",
            " [ 29  53]\n",
            " [ 31  55]\n",
            " [ 37  57]\n",
            " [ 39  59]\n",
            " [ 41  61]\n",
            " [ 43  63]\n",
            " [ 53  65]\n",
            " [ 57  67]\n",
            " [ 61  69]\n",
            " [ 63  71]\n",
            " [ 69  73]\n",
            " [ 71  75]\n",
            " [ 73  77]\n",
            " [ 75  79]\n",
            " [ 85  81]\n",
            " [ 89  83]\n",
            " [ 91  85]\n",
            " [ 93  97]\n",
            " [ 95  99]\n",
            " [ 97 101]\n",
            " [ 99 103]]\n"
          ],
          "name": "stdout"
        }
      ]
    },
    {
      "cell_type": "code",
      "metadata": {
        "id": "6-nWJTvdNSvg",
        "colab": {
          "base_uri": "https://localhost:8080/",
          "height": 441
        },
        "outputId": "1d2855df-5b3b-40f0-ac45-06316835e963"
      },
      "source": [
        "#PLOTTING THE CONVERTED X,Y COORDINATES OF WORDS\n",
        "\n",
        "import matplotlib.pyplot as plt\n",
        "labels = range(1,29)\n",
        "plt.figure(figsize=(10,7))\n",
        "plt.subplots_adjust(bottom=0.1)\n",
        "plt.scatter(X[:,0],X[:,1], label=\"True Position\")\n",
        "for label, x, y, in zip(labels, X[:,0], X[:,1]):\n",
        "  plt.annotate(label, xy=(x,y), xytext=(-5,5), textcoords='offset points', ha='right', va='bottom')\n",
        "plt.show()"
      ],
      "execution_count": 114,
      "outputs": [
        {
          "output_type": "display_data",
          "data": {
            "image/png": "[encoded data removed]",
            "text/plain": [
              "<Figure size 720x504 with 1 Axes>"
            ]
          },
          "metadata": {
            "tags": [],
            "needs_background": "light"
          }
        }
      ]
    },
    {
      "cell_type": "code",
      "metadata": {
        "colab": {
          "base_uri": "https://localhost:8080/",
          "height": 435
        },
        "id": "3Oy7sM8SPGmF",
        "outputId": "7b279520-7e5d-4e7f-eb45-18044ffdcf2f"
      },
      "source": [
        "#PLOTTING DENDROGRAM TO MANUALLY DECIDE THE OPTIMAL NUMBER OF CLUSTERS\n",
        "\n",
        "from scipy.cluster.hierarchy import dendrogram, linkage\n",
        "from matplotlib import pyplot as plt\n",
        "linked = linkage(X, 'single')\n",
        "label = range(1,29)\n",
        "plt.figure(figsize=(12,7))\n",
        "dendrogram(linked, orientation='top', labels=label, distance_sort='descending', show_leaf_counts=True)\n",
        "plt.show()"
      ],
      "execution_count": 115,
      "outputs": [
        {
          "output_type": "display_data",
          "data": {
            "image/png": "[encoded data removed]",
            "text/plain": [
              "<Figure size 864x504 with 1 Axes>"
            ]
          },
          "metadata": {
            "tags": [],
            "needs_background": "light"
          }
        }
      ]
    },
    {
      "cell_type": "code",
      "metadata": {
        "colab": {
          "base_uri": "https://localhost:8080/"
        },
        "id": "c7EL6wL1QodZ",
        "outputId": "209e035c-c487-4792-ecfc-1fe24287eb15"
      },
      "source": [
        "#FINDING THE CHUNKS USING AGGLOMERATIVE HIERARCHICAL CLUSTERING\n",
        "\n",
        "from sklearn.cluster import AgglomerativeClustering as acl\n",
        "\n",
        "cluster = acl(n_clusters=11, affinity='euclidean', linkage='ward')\n",
        "\n",
        "cluster.fit_predict(X)\n",
        "print(cluster.labels_)\n",
        "final_cluster = []\n",
        "temp_cluster = []\n",
        "temp_cluster.append({s[0]:s[1]})\n",
        "sidx = 2\n",
        "for c in range(1,len(cluster.labels_)):\n",
        "  if cluster.labels_[c] == cluster.labels_[c-1]:\n",
        "    temp_cluster.append({s[sidx]:s[sidx+1]})\n",
        "    sidx+=2\n",
        "  else:\n",
        "    final_cluster.append(temp_cluster)\n",
        "    temp_cluster = []\n",
        "    temp_cluster.append({s[sidx]:s[sidx+1]})\n",
        "    sidx+=2\n",
        "final_cluster.append(temp_cluster)\n",
        "print()\n",
        "print(final_cluster)"
      ],
      "execution_count": 116,
      "outputs": [
        {
          "output_type": "stream",
          "text": [
            "[ 9  9  4  4  4  7  7  6  6  2  2  2  2  3  3  8  8  0  0  0  0  1  1  1\n",
            " 10 10  5  5]\n",
            "\n",
            "[[{'शौकत': 'N_NNP'}, {'महल': 'N_NNP'}], [{'के': 'PSP'}, {'सामने': 'N_NST'}, {'बड़ी': 'JJ'}], [{'झील': 'N_NN'}, {'के': 'PSP'}], [{'किनारे': 'N_NN'}, {'स्थित': 'JJ'}], [{'वास्तुकला': 'N_NN'}, {'का': 'PSP'}, {'यह': 'DM_DMD'}, {'खूबसूरत': 'JJ'}], [{'नमूना': 'N_NN'}, {'कुदसिया': 'N_NNP'}], [{'बेगम': 'N_NNP'}, {'के': 'PSP'}], [{'काल': 'N_NN'}, {'का': 'PSP'}, {'है': 'V_VM'}, {'जिन्हें': 'PR_PRL'}], [{'गोहर': 'N_NNP'}, {'बेगम': 'N_NNP'}, {'भी': 'RP_RPD'}], [{'कहा': 'V_VM'}, {'जाता': 'V_VAUX'}], [{'था': 'V_VAUX'}, {'।': 'RD_PUNC'}]]\n"
          ],
          "name": "stdout"
        }
      ]
    },
    {
      "cell_type": "code",
      "metadata": {
        "colab": {
          "base_uri": "https://localhost:8080/",
          "height": 428
        },
        "id": "93yLMUI5RSy5",
        "outputId": "3005eb52-1ad9-4144-b80b-1781280afd2d"
      },
      "source": [
        "#PLOTTING THE CLUSTERS FOUND USING HIERARCHICAL CLUSTERING\n",
        "\n",
        "plt.figure(figsize=(12,7))\n",
        "plt.scatter(X[:,0],X[:,1], c=cluster.labels_,cmap='rainbow')\n",
        "for label, x, y, in zip(labels, X[:,0], X[:,1]):\n",
        "  plt.annotate(label, xy=(x,y), xytext=(-5,5), textcoords='offset points', ha='right', va='bottom')\n",
        "plt.show()"
      ],
      "execution_count": 117,
      "outputs": [
        {
          "output_type": "display_data",
          "data": {
            "image/png": "[encoded data removed]",
            "text/plain": [
              "<Figure size 864x504 with 1 Axes>"
            ]
          },
          "metadata": {
            "tags": [],
            "needs_background": "light"
          }
        }
      ]
    }
  ]
}